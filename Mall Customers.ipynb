{
 "cells": [
  {
   "cell_type": "code",
   "execution_count": 5,
   "metadata": {},
   "outputs": [],
   "source": [
    "import numpy as np\n",
    "import pandas as pd\n",
    "import matplotlib.pyplot as plt\n",
    "import seaborn as sns"
   ]
  },
  {
   "cell_type": "code",
   "execution_count": 6,
   "metadata": {},
   "outputs": [],
   "source": [
    "df=pd.read_csv('D:\\\\Abhi reddy\\\\ExcelR\\\\Mall_Customers.csv')"
   ]
  },
  {
   "cell_type": "code",
   "execution_count": 7,
   "metadata": {},
   "outputs": [
    {
     "data": {
      "text/html": [
       "<div>\n",
       "<style scoped>\n",
       "    .dataframe tbody tr th:only-of-type {\n",
       "        vertical-align: middle;\n",
       "    }\n",
       "\n",
       "    .dataframe tbody tr th {\n",
       "        vertical-align: top;\n",
       "    }\n",
       "\n",
       "    .dataframe thead th {\n",
       "        text-align: right;\n",
       "    }\n",
       "</style>\n",
       "<table border=\"1\" class=\"dataframe\">\n",
       "  <thead>\n",
       "    <tr style=\"text-align: right;\">\n",
       "      <th></th>\n",
       "      <th>CustomerID</th>\n",
       "      <th>Genre</th>\n",
       "      <th>Age</th>\n",
       "      <th>Annual Income (k$)</th>\n",
       "      <th>Spending Score (1-100)</th>\n",
       "    </tr>\n",
       "  </thead>\n",
       "  <tbody>\n",
       "    <tr>\n",
       "      <th>0</th>\n",
       "      <td>1</td>\n",
       "      <td>Male</td>\n",
       "      <td>19</td>\n",
       "      <td>15</td>\n",
       "      <td>39</td>\n",
       "    </tr>\n",
       "    <tr>\n",
       "      <th>1</th>\n",
       "      <td>2</td>\n",
       "      <td>Male</td>\n",
       "      <td>21</td>\n",
       "      <td>15</td>\n",
       "      <td>81</td>\n",
       "    </tr>\n",
       "    <tr>\n",
       "      <th>2</th>\n",
       "      <td>3</td>\n",
       "      <td>Female</td>\n",
       "      <td>20</td>\n",
       "      <td>16</td>\n",
       "      <td>6</td>\n",
       "    </tr>\n",
       "    <tr>\n",
       "      <th>3</th>\n",
       "      <td>4</td>\n",
       "      <td>Female</td>\n",
       "      <td>23</td>\n",
       "      <td>16</td>\n",
       "      <td>77</td>\n",
       "    </tr>\n",
       "    <tr>\n",
       "      <th>4</th>\n",
       "      <td>5</td>\n",
       "      <td>Female</td>\n",
       "      <td>31</td>\n",
       "      <td>17</td>\n",
       "      <td>40</td>\n",
       "    </tr>\n",
       "  </tbody>\n",
       "</table>\n",
       "</div>"
      ],
      "text/plain": [
       "   CustomerID   Genre  Age  Annual Income (k$)  Spending Score (1-100)\n",
       "0           1    Male   19                  15                      39\n",
       "1           2    Male   21                  15                      81\n",
       "2           3  Female   20                  16                       6\n",
       "3           4  Female   23                  16                      77\n",
       "4           5  Female   31                  17                      40"
      ]
     },
     "execution_count": 7,
     "metadata": {},
     "output_type": "execute_result"
    }
   ],
   "source": [
    "df.head()"
   ]
  },
  {
   "cell_type": "code",
   "execution_count": 8,
   "metadata": {},
   "outputs": [
    {
     "data": {
      "text/plain": [
       "(200, 5)"
      ]
     },
     "execution_count": 8,
     "metadata": {},
     "output_type": "execute_result"
    }
   ],
   "source": [
    "df.shape"
   ]
  },
  {
   "cell_type": "code",
   "execution_count": 9,
   "metadata": {},
   "outputs": [
    {
     "data": {
      "text/html": [
       "<div>\n",
       "<style scoped>\n",
       "    .dataframe tbody tr th:only-of-type {\n",
       "        vertical-align: middle;\n",
       "    }\n",
       "\n",
       "    .dataframe tbody tr th {\n",
       "        vertical-align: top;\n",
       "    }\n",
       "\n",
       "    .dataframe thead th {\n",
       "        text-align: right;\n",
       "    }\n",
       "</style>\n",
       "<table border=\"1\" class=\"dataframe\">\n",
       "  <thead>\n",
       "    <tr style=\"text-align: right;\">\n",
       "      <th></th>\n",
       "      <th>CustomerID</th>\n",
       "      <th>Age</th>\n",
       "      <th>Annual Income (k$)</th>\n",
       "      <th>Spending Score (1-100)</th>\n",
       "    </tr>\n",
       "  </thead>\n",
       "  <tbody>\n",
       "    <tr>\n",
       "      <th>count</th>\n",
       "      <td>200.000000</td>\n",
       "      <td>200.000000</td>\n",
       "      <td>200.000000</td>\n",
       "      <td>200.000000</td>\n",
       "    </tr>\n",
       "    <tr>\n",
       "      <th>mean</th>\n",
       "      <td>100.500000</td>\n",
       "      <td>38.850000</td>\n",
       "      <td>60.560000</td>\n",
       "      <td>50.200000</td>\n",
       "    </tr>\n",
       "    <tr>\n",
       "      <th>std</th>\n",
       "      <td>57.879185</td>\n",
       "      <td>13.969007</td>\n",
       "      <td>26.264721</td>\n",
       "      <td>25.823522</td>\n",
       "    </tr>\n",
       "    <tr>\n",
       "      <th>min</th>\n",
       "      <td>1.000000</td>\n",
       "      <td>18.000000</td>\n",
       "      <td>15.000000</td>\n",
       "      <td>1.000000</td>\n",
       "    </tr>\n",
       "    <tr>\n",
       "      <th>25%</th>\n",
       "      <td>50.750000</td>\n",
       "      <td>28.750000</td>\n",
       "      <td>41.500000</td>\n",
       "      <td>34.750000</td>\n",
       "    </tr>\n",
       "    <tr>\n",
       "      <th>50%</th>\n",
       "      <td>100.500000</td>\n",
       "      <td>36.000000</td>\n",
       "      <td>61.500000</td>\n",
       "      <td>50.000000</td>\n",
       "    </tr>\n",
       "    <tr>\n",
       "      <th>75%</th>\n",
       "      <td>150.250000</td>\n",
       "      <td>49.000000</td>\n",
       "      <td>78.000000</td>\n",
       "      <td>73.000000</td>\n",
       "    </tr>\n",
       "    <tr>\n",
       "      <th>max</th>\n",
       "      <td>200.000000</td>\n",
       "      <td>70.000000</td>\n",
       "      <td>137.000000</td>\n",
       "      <td>99.000000</td>\n",
       "    </tr>\n",
       "  </tbody>\n",
       "</table>\n",
       "</div>"
      ],
      "text/plain": [
       "       CustomerID         Age  Annual Income (k$)  Spending Score (1-100)\n",
       "count  200.000000  200.000000          200.000000              200.000000\n",
       "mean   100.500000   38.850000           60.560000               50.200000\n",
       "std     57.879185   13.969007           26.264721               25.823522\n",
       "min      1.000000   18.000000           15.000000                1.000000\n",
       "25%     50.750000   28.750000           41.500000               34.750000\n",
       "50%    100.500000   36.000000           61.500000               50.000000\n",
       "75%    150.250000   49.000000           78.000000               73.000000\n",
       "max    200.000000   70.000000          137.000000               99.000000"
      ]
     },
     "execution_count": 9,
     "metadata": {},
     "output_type": "execute_result"
    }
   ],
   "source": [
    "df.describe()"
   ]
  },
  {
   "cell_type": "code",
   "execution_count": 10,
   "metadata": {},
   "outputs": [
    {
     "data": {
      "text/html": [
       "<div>\n",
       "<style scoped>\n",
       "    .dataframe tbody tr th:only-of-type {\n",
       "        vertical-align: middle;\n",
       "    }\n",
       "\n",
       "    .dataframe tbody tr th {\n",
       "        vertical-align: top;\n",
       "    }\n",
       "\n",
       "    .dataframe thead th {\n",
       "        text-align: right;\n",
       "    }\n",
       "</style>\n",
       "<table border=\"1\" class=\"dataframe\">\n",
       "  <thead>\n",
       "    <tr style=\"text-align: right;\">\n",
       "      <th></th>\n",
       "      <th>CustomerID</th>\n",
       "      <th>Age</th>\n",
       "      <th>Annual Income (k$)</th>\n",
       "      <th>Spending Score (1-100)</th>\n",
       "    </tr>\n",
       "  </thead>\n",
       "  <tbody>\n",
       "    <tr>\n",
       "      <th>CustomerID</th>\n",
       "      <td>1.000000</td>\n",
       "      <td>-0.026763</td>\n",
       "      <td>0.977548</td>\n",
       "      <td>0.013835</td>\n",
       "    </tr>\n",
       "    <tr>\n",
       "      <th>Age</th>\n",
       "      <td>-0.026763</td>\n",
       "      <td>1.000000</td>\n",
       "      <td>-0.012398</td>\n",
       "      <td>-0.327227</td>\n",
       "    </tr>\n",
       "    <tr>\n",
       "      <th>Annual Income (k$)</th>\n",
       "      <td>0.977548</td>\n",
       "      <td>-0.012398</td>\n",
       "      <td>1.000000</td>\n",
       "      <td>0.009903</td>\n",
       "    </tr>\n",
       "    <tr>\n",
       "      <th>Spending Score (1-100)</th>\n",
       "      <td>0.013835</td>\n",
       "      <td>-0.327227</td>\n",
       "      <td>0.009903</td>\n",
       "      <td>1.000000</td>\n",
       "    </tr>\n",
       "  </tbody>\n",
       "</table>\n",
       "</div>"
      ],
      "text/plain": [
       "                        CustomerID       Age  Annual Income (k$)  \\\n",
       "CustomerID                1.000000 -0.026763            0.977548   \n",
       "Age                      -0.026763  1.000000           -0.012398   \n",
       "Annual Income (k$)        0.977548 -0.012398            1.000000   \n",
       "Spending Score (1-100)    0.013835 -0.327227            0.009903   \n",
       "\n",
       "                        Spending Score (1-100)  \n",
       "CustomerID                            0.013835  \n",
       "Age                                  -0.327227  \n",
       "Annual Income (k$)                    0.009903  \n",
       "Spending Score (1-100)                1.000000  "
      ]
     },
     "execution_count": 10,
     "metadata": {},
     "output_type": "execute_result"
    }
   ],
   "source": [
    "df.corr()"
   ]
  },
  {
   "cell_type": "code",
   "execution_count": 11,
   "metadata": {},
   "outputs": [
    {
     "data": {
      "image/png": "[encoded data removed]",
      "text/plain": [
       "<Figure size 432x288 with 2 Axes>"
      ]
     },
     "metadata": {
      "needs_background": "light"
     },
     "output_type": "display_data"
    }
   ],
   "source": [
    "sns.heatmap(df.corr(),annot=True)\n",
    "plt.show()"
   ]
  },
  {
   "cell_type": "code",
   "execution_count": 12,
   "metadata": {},
   "outputs": [
    {
     "data": {
      "text/plain": [
       "0"
      ]
     },
     "execution_count": 12,
     "metadata": {},
     "output_type": "execute_result"
    }
   ],
   "source": [
    "dupes=df.duplicated()\n",
    "sum(dupes)"
   ]
  },
  {
   "cell_type": "code",
   "execution_count": 13,
   "metadata": {},
   "outputs": [
    {
     "data": {
      "text/plain": [
       "CustomerID                0\n",
       "Genre                     0\n",
       "Age                       0\n",
       "Annual Income (k$)        0\n",
       "Spending Score (1-100)    0\n",
       "dtype: int64"
      ]
     },
     "execution_count": 13,
     "metadata": {},
     "output_type": "execute_result"
    }
   ],
   "source": [
    "df.isnull().sum()"
   ]
  },
  {
   "cell_type": "code",
   "execution_count": 14,
   "metadata": {},
   "outputs": [
    {
     "data": {
      "image/png": "[encoded data removed]",
      "text/plain": [
       "<Figure size 432x288 with 1 Axes>"
      ]
     },
     "metadata": {
      "needs_background": "light"
     },
     "output_type": "display_data"
    }
   ],
   "source": [
    "df['CustomerID'].plot.box()\n",
    "plt.show()"
   ]
  },
  {
   "cell_type": "code",
   "execution_count": 15,
   "metadata": {},
   "outputs": [
    {
     "data": {
      "image/png": "[encoded data removed]",
      "text/plain": [
       "<Figure size 432x288 with 1 Axes>"
      ]
     },
     "metadata": {
      "needs_background": "light"
     },
     "output_type": "display_data"
    }
   ],
   "source": [
    "df['Age'].plot.box()\n",
    "plt.show()"
   ]
  },
  {
   "cell_type": "code",
   "execution_count": 16,
   "metadata": {},
   "outputs": [
    {
     "data": {
      "image/png": "[encoded data removed]",
      "text/plain": [
       "<Figure size 432x288 with 1 Axes>"
      ]
     },
     "metadata": {
      "needs_background": "light"
     },
     "output_type": "display_data"
    }
   ],
   "source": [
    "df['Annual Income (k$)'].plot.box()\n",
    "plt.show()"
   ]
  },
  {
   "cell_type": "code",
   "execution_count": 17,
   "metadata": {},
   "outputs": [
    {
     "data": {
      "image/png": "[encoded data removed]",
      "text/plain": [
       "<Figure size 432x288 with 1 Axes>"
      ]
     },
     "metadata": {
      "needs_background": "light"
     },
     "output_type": "display_data"
    }
   ],
   "source": [
    "df['Spending Score (1-100)'].plot.box()\n",
    "plt.show()"
   ]
  },
  {
   "cell_type": "code",
   "execution_count": 18,
   "metadata": {},
   "outputs": [
    {
     "data": {
      "image/png": "[encoded data removed]",
      "text/plain": [
       "<Figure size 432x288 with 1 Axes>"
      ]
     },
     "metadata": {
      "needs_background": "light"
     },
     "output_type": "display_data"
    }
   ],
   "source": [
    "sns.countplot(x='CustomerID',hue='Genre',data=df)\n",
    "plt.show()"
   ]
  },
  {
   "cell_type": "code",
   "execution_count": 19,
   "metadata": {},
   "outputs": [
    {
     "data": {
      "image/png": "[encoded data removed]",
      "text/plain": [
       "<Figure size 432x288 with 1 Axes>"
      ]
     },
     "metadata": {
      "needs_background": "light"
     },
     "output_type": "display_data"
    }
   ],
   "source": [
    "sns.countplot(x='Age',hue='Genre',data=df)\n",
    "plt.show()"
   ]
  },
  {
   "cell_type": "code",
   "execution_count": 20,
   "metadata": {},
   "outputs": [
    {
     "data": {
      "image/png": "[encoded data removed]",
      "text/plain": [
       "<Figure size 432x288 with 1 Axes>"
      ]
     },
     "metadata": {
      "needs_background": "light"
     },
     "output_type": "display_data"
    }
   ],
   "source": [
    "sns.countplot(x='Annual Income (k$)',hue='Genre',data=df)\n",
    "plt.show()"
   ]
  },
  {
   "cell_type": "code",
   "execution_count": 21,
   "metadata": {},
   "outputs": [
    {
     "data": {
      "image/png": "[encoded data removed]",
      "text/plain": [
       "<Figure size 432x288 with 1 Axes>"
      ]
     },
     "metadata": {
      "needs_background": "light"
     },
     "output_type": "display_data"
    }
   ],
   "source": [
    "sns.countplot(x='Spending Score (1-100)',hue='Genre',data=df)\n",
    "plt.show()"
   ]
  },
  {
   "cell_type": "code",
   "execution_count": 22,
   "metadata": {},
   "outputs": [
    {
     "data": {
      "image/png": "[encoded data removed]",
      "text/plain": [
       "<Figure size 360x360 with 1 Axes>"
      ]
     },
     "metadata": {
      "needs_background": "light"
     },
     "output_type": "display_data"
    }
   ],
   "source": [
    "df['CustomerID'].plot.hist(bins=10,figsize=(5,5))\n",
    "plt.show()"
   ]
  },
  {
   "cell_type": "code",
   "execution_count": 23,
   "metadata": {},
   "outputs": [
    {
     "data": {
      "image/png": "[encoded data removed]",
      "text/plain": [
       "<Figure size 360x360 with 1 Axes>"
      ]
     },
     "metadata": {
      "needs_background": "light"
     },
     "output_type": "display_data"
    }
   ],
   "source": [
    "df['Age'].plot.hist(bins=10,figsize=(5,5))\n",
    "plt.show()"
   ]
  },
  {
   "cell_type": "code",
   "execution_count": 24,
   "metadata": {},
   "outputs": [
    {
     "data": {
      "image/png": "[encoded data removed]",
      "text/plain": [
       "<Figure size 360x360 with 1 Axes>"
      ]
     },
     "metadata": {
      "needs_background": "light"
     },
     "output_type": "display_data"
    }
   ],
   "source": [
    "df['Annual Income (k$)'].plot.hist(bins=10,figsize=(5,5))\n",
    "plt.show()"
   ]
  },
  {
   "cell_type": "code",
   "execution_count": 25,
   "metadata": {},
   "outputs": [
    {
     "data": {
      "image/png": "[encoded data removed]",
      "text/plain": [
       "<Figure size 360x360 with 1 Axes>"
      ]
     },
     "metadata": {
      "needs_background": "light"
     },
     "output_type": "display_data"
    }
   ],
   "source": [
    "df['Spending Score (1-100)'].plot.hist(bins=10,figsize=(5,5))\n",
    "plt.show()"
   ]
  },
  {
   "cell_type": "code",
   "execution_count": 26,
   "metadata": {},
   "outputs": [
    {
     "name": "stderr",
     "output_type": "stream",
     "text": [
      "C:\\Users\\Dell\\anaconda3\\lib\\site-packages\\seaborn\\distributions.py:2551: FutureWarning: `distplot` is a deprecated function and will be removed in a future version. Please adapt your code to use either `displot` (a figure-level function with similar flexibility) or `histplot` (an axes-level function for histograms).\n",
      "  warnings.warn(msg, FutureWarning)\n"
     ]
    },
    {
     "data": {
      "image/png": "[encoded data removed]",
      "text/plain": [
       "<Figure size 432x288 with 1 Axes>"
      ]
     },
     "metadata": {
      "needs_background": "light"
     },
     "output_type": "display_data"
    }
   ],
   "source": [
    "sns.distplot(df.CustomerID,label='CustomerID')\n",
    "plt.show()"
   ]
  },
  {
   "cell_type": "code",
   "execution_count": 27,
   "metadata": {},
   "outputs": [
    {
     "name": "stderr",
     "output_type": "stream",
     "text": [
      "C:\\Users\\Dell\\anaconda3\\lib\\site-packages\\seaborn\\distributions.py:2551: FutureWarning: `distplot` is a deprecated function and will be removed in a future version. Please adapt your code to use either `displot` (a figure-level function with similar flexibility) or `histplot` (an axes-level function for histograms).\n",
      "  warnings.warn(msg, FutureWarning)\n"
     ]
    },
    {
     "data": {
      "image/png": "[encoded data removed]",
      "text/plain": [
       "<Figure size 432x288 with 1 Axes>"
      ]
     },
     "metadata": {
      "needs_background": "light"
     },
     "output_type": "display_data"
    }
   ],
   "source": [
    "sns.distplot(df.Age,label='Age')\n",
    "plt.show()"
   ]
  },
  {
   "cell_type": "code",
   "execution_count": 28,
   "metadata": {},
   "outputs": [
    {
     "name": "stderr",
     "output_type": "stream",
     "text": [
      "C:\\Users\\Dell\\anaconda3\\lib\\site-packages\\seaborn\\distributions.py:2551: FutureWarning: `distplot` is a deprecated function and will be removed in a future version. Please adapt your code to use either `displot` (a figure-level function with similar flexibility) or `histplot` (an axes-level function for histograms).\n",
      "  warnings.warn(msg, FutureWarning)\n"
     ]
    },
    {
     "data": {
      "image/png": "[encoded data removed]",
      "text/plain": [
       "<Figure size 432x288 with 1 Axes>"
      ]
     },
     "metadata": {
      "needs_background": "light"
     },
     "output_type": "display_data"
    }
   ],
   "source": [
    "sns.distplot(df['Annual Income (k$)'],label='Annual Income (k$)')\n",
    "plt.show()"
   ]
  },
  {
   "cell_type": "code",
   "execution_count": 29,
   "metadata": {},
   "outputs": [
    {
     "name": "stderr",
     "output_type": "stream",
     "text": [
      "C:\\Users\\Dell\\anaconda3\\lib\\site-packages\\seaborn\\distributions.py:2551: FutureWarning: `distplot` is a deprecated function and will be removed in a future version. Please adapt your code to use either `displot` (a figure-level function with similar flexibility) or `histplot` (an axes-level function for histograms).\n",
      "  warnings.warn(msg, FutureWarning)\n"
     ]
    },
    {
     "data": {
      "image/png": "[encoded data removed]",
      "text/plain": [
       "<Figure size 432x288 with 1 Axes>"
      ]
     },
     "metadata": {
      "needs_background": "light"
     },
     "output_type": "display_data"
    }
   ],
   "source": [
    "sns.distplot(df['Spending Score (1-100)'],label='Spending Score (1-100)')\n",
    "plt.show()"
   ]
  },
  {
   "cell_type": "code",
   "execution_count": 30,
   "metadata": {},
   "outputs": [
    {
     "data": {
      "image/png": "[encoded data removed]",
      "text/plain": [
       "<Figure size 432x288 with 1 Axes>"
      ]
     },
     "metadata": {
      "needs_background": "light"
     },
     "output_type": "display_data"
    }
   ],
   "source": [
    "plt.scatter(x='Annual Income (k$)',y='Spending Score (1-100)',data=df,c='red')\n",
    "plt.xlabel('Annual Income (k$)')\n",
    "plt.ylabel('Spending Score (1-100)')\n",
    "plt.show()"
   ]
  },
  {
   "cell_type": "code",
   "execution_count": 31,
   "metadata": {},
   "outputs": [
    {
     "data": {
      "image/png": "[encoded data removed]",
      "text/plain": [
       "<Figure size 432x288 with 1 Axes>"
      ]
     },
     "metadata": {
      "needs_background": "light"
     },
     "output_type": "display_data"
    }
   ],
   "source": [
    "plt.scatter(x='Annual Income (k$)',y='Age',data=df,c='Green')\n",
    "plt.xlabel('Annual Income (k$)')\n",
    "plt.ylabel('Age')\n",
    "plt.show()"
   ]
  },
  {
   "cell_type": "code",
   "execution_count": 32,
   "metadata": {},
   "outputs": [
    {
     "data": {
      "image/png": "[encoded data removed]",
      "text/plain": [
       "<Figure size 432x288 with 1 Axes>"
      ]
     },
     "metadata": {
      "needs_background": "light"
     },
     "output_type": "display_data"
    }
   ],
   "source": [
    "plt.scatter(x='Age',y='Annual Income (k$)',data=df,c='black')\n",
    "plt.xlabel('Age')\n",
    "plt.ylabel('Annual Income (k$)')\n",
    "plt.show()"
   ]
  },
  {
   "cell_type": "code",
   "execution_count": 33,
   "metadata": {},
   "outputs": [
    {
     "data": {
      "image/png": "[encoded data removed]",
      "text/plain": [
       "<Figure size 720x720 with 20 Axes>"
      ]
     },
     "metadata": {
      "needs_background": "light"
     },
     "output_type": "display_data"
    }
   ],
   "source": [
    "sns.pairplot(df)\n",
    "plt.show()"
   ]
  },
  {
   "cell_type": "code",
   "execution_count": 34,
   "metadata": {},
   "outputs": [
    {
     "data": {
      "text/html": [
       "<div>\n",
       "<style scoped>\n",
       "    .dataframe tbody tr th:only-of-type {\n",
       "        vertical-align: middle;\n",
       "    }\n",
       "\n",
       "    .dataframe tbody tr th {\n",
       "        vertical-align: top;\n",
       "    }\n",
       "\n",
       "    .dataframe thead th {\n",
       "        text-align: right;\n",
       "    }\n",
       "</style>\n",
       "<table border=\"1\" class=\"dataframe\">\n",
       "  <thead>\n",
       "    <tr style=\"text-align: right;\">\n",
       "      <th></th>\n",
       "      <th>Male</th>\n",
       "    </tr>\n",
       "  </thead>\n",
       "  <tbody>\n",
       "    <tr>\n",
       "      <th>0</th>\n",
       "      <td>1</td>\n",
       "    </tr>\n",
       "    <tr>\n",
       "      <th>1</th>\n",
       "      <td>1</td>\n",
       "    </tr>\n",
       "    <tr>\n",
       "      <th>2</th>\n",
       "      <td>0</td>\n",
       "    </tr>\n",
       "    <tr>\n",
       "      <th>3</th>\n",
       "      <td>0</td>\n",
       "    </tr>\n",
       "    <tr>\n",
       "      <th>4</th>\n",
       "      <td>0</td>\n",
       "    </tr>\n",
       "  </tbody>\n",
       "</table>\n",
       "</div>"
      ],
      "text/plain": [
       "   Male\n",
       "0     1\n",
       "1     1\n",
       "2     0\n",
       "3     0\n",
       "4     0"
      ]
     },
     "execution_count": 34,
     "metadata": {},
     "output_type": "execute_result"
    }
   ],
   "source": [
    "Genre=pd.get_dummies(df['Genre'],drop_first=True)\n",
    "Genre.head()"
   ]
  },
  {
   "cell_type": "code",
   "execution_count": 35,
   "metadata": {},
   "outputs": [
    {
     "data": {
      "text/html": [
       "<div>\n",
       "<style scoped>\n",
       "    .dataframe tbody tr th:only-of-type {\n",
       "        vertical-align: middle;\n",
       "    }\n",
       "\n",
       "    .dataframe tbody tr th {\n",
       "        vertical-align: top;\n",
       "    }\n",
       "\n",
       "    .dataframe thead th {\n",
       "        text-align: right;\n",
       "    }\n",
       "</style>\n",
       "<table border=\"1\" class=\"dataframe\">\n",
       "  <thead>\n",
       "    <tr style=\"text-align: right;\">\n",
       "      <th></th>\n",
       "      <th>CustomerID</th>\n",
       "      <th>Genre</th>\n",
       "      <th>Age</th>\n",
       "      <th>Annual Income (k$)</th>\n",
       "      <th>Spending Score (1-100)</th>\n",
       "      <th>Male</th>\n",
       "    </tr>\n",
       "  </thead>\n",
       "  <tbody>\n",
       "    <tr>\n",
       "      <th>0</th>\n",
       "      <td>1</td>\n",
       "      <td>Male</td>\n",
       "      <td>19</td>\n",
       "      <td>15</td>\n",
       "      <td>39</td>\n",
       "      <td>1</td>\n",
       "    </tr>\n",
       "    <tr>\n",
       "      <th>1</th>\n",
       "      <td>2</td>\n",
       "      <td>Male</td>\n",
       "      <td>21</td>\n",
       "      <td>15</td>\n",
       "      <td>81</td>\n",
       "      <td>1</td>\n",
       "    </tr>\n",
       "    <tr>\n",
       "      <th>2</th>\n",
       "      <td>3</td>\n",
       "      <td>Female</td>\n",
       "      <td>20</td>\n",
       "      <td>16</td>\n",
       "      <td>6</td>\n",
       "      <td>0</td>\n",
       "    </tr>\n",
       "    <tr>\n",
       "      <th>3</th>\n",
       "      <td>4</td>\n",
       "      <td>Female</td>\n",
       "      <td>23</td>\n",
       "      <td>16</td>\n",
       "      <td>77</td>\n",
       "      <td>0</td>\n",
       "    </tr>\n",
       "    <tr>\n",
       "      <th>4</th>\n",
       "      <td>5</td>\n",
       "      <td>Female</td>\n",
       "      <td>31</td>\n",
       "      <td>17</td>\n",
       "      <td>40</td>\n",
       "      <td>0</td>\n",
       "    </tr>\n",
       "  </tbody>\n",
       "</table>\n",
       "</div>"
      ],
      "text/plain": [
       "   CustomerID   Genre  Age  Annual Income (k$)  Spending Score (1-100)  Male\n",
       "0           1    Male   19                  15                      39     1\n",
       "1           2    Male   21                  15                      81     1\n",
       "2           3  Female   20                  16                       6     0\n",
       "3           4  Female   23                  16                      77     0\n",
       "4           5  Female   31                  17                      40     0"
      ]
     },
     "execution_count": 35,
     "metadata": {},
     "output_type": "execute_result"
    }
   ],
   "source": [
    "df1=pd.concat([df,Genre],axis=1)\n",
    "df1.head()"
   ]
  },
  {
   "cell_type": "code",
   "execution_count": 36,
   "metadata": {},
   "outputs": [
    {
     "data": {
      "text/html": [
       "<div>\n",
       "<style scoped>\n",
       "    .dataframe tbody tr th:only-of-type {\n",
       "        vertical-align: middle;\n",
       "    }\n",
       "\n",
       "    .dataframe tbody tr th {\n",
       "        vertical-align: top;\n",
       "    }\n",
       "\n",
       "    .dataframe thead th {\n",
       "        text-align: right;\n",
       "    }\n",
       "</style>\n",
       "<table border=\"1\" class=\"dataframe\">\n",
       "  <thead>\n",
       "    <tr style=\"text-align: right;\">\n",
       "      <th></th>\n",
       "      <th>CustomerID</th>\n",
       "      <th>Age</th>\n",
       "      <th>Annual Income (k$)</th>\n",
       "      <th>Spending Score (1-100)</th>\n",
       "      <th>Male</th>\n",
       "    </tr>\n",
       "  </thead>\n",
       "  <tbody>\n",
       "    <tr>\n",
       "      <th>0</th>\n",
       "      <td>1</td>\n",
       "      <td>19</td>\n",
       "      <td>15</td>\n",
       "      <td>39</td>\n",
       "      <td>1</td>\n",
       "    </tr>\n",
       "    <tr>\n",
       "      <th>1</th>\n",
       "      <td>2</td>\n",
       "      <td>21</td>\n",
       "      <td>15</td>\n",
       "      <td>81</td>\n",
       "      <td>1</td>\n",
       "    </tr>\n",
       "    <tr>\n",
       "      <th>2</th>\n",
       "      <td>3</td>\n",
       "      <td>20</td>\n",
       "      <td>16</td>\n",
       "      <td>6</td>\n",
       "      <td>0</td>\n",
       "    </tr>\n",
       "    <tr>\n",
       "      <th>3</th>\n",
       "      <td>4</td>\n",
       "      <td>23</td>\n",
       "      <td>16</td>\n",
       "      <td>77</td>\n",
       "      <td>0</td>\n",
       "    </tr>\n",
       "    <tr>\n",
       "      <th>4</th>\n",
       "      <td>5</td>\n",
       "      <td>31</td>\n",
       "      <td>17</td>\n",
       "      <td>40</td>\n",
       "      <td>0</td>\n",
       "    </tr>\n",
       "  </tbody>\n",
       "</table>\n",
       "</div>"
      ],
      "text/plain": [
       "   CustomerID  Age  Annual Income (k$)  Spending Score (1-100)  Male\n",
       "0           1   19                  15                      39     1\n",
       "1           2   21                  15                      81     1\n",
       "2           3   20                  16                       6     0\n",
       "3           4   23                  16                      77     0\n",
       "4           5   31                  17                      40     0"
      ]
     },
     "execution_count": 36,
     "metadata": {},
     "output_type": "execute_result"
    }
   ],
   "source": [
    "df2=df1.drop('Genre',axis=1)\n",
    "df2.head()"
   ]
  },
  {
   "cell_type": "code",
   "execution_count": 37,
   "metadata": {},
   "outputs": [
    {
     "data": {
      "text/html": [
       "<div>\n",
       "<style scoped>\n",
       "    .dataframe tbody tr th:only-of-type {\n",
       "        vertical-align: middle;\n",
       "    }\n",
       "\n",
       "    .dataframe tbody tr th {\n",
       "        vertical-align: top;\n",
       "    }\n",
       "\n",
       "    .dataframe thead th {\n",
       "        text-align: right;\n",
       "    }\n",
       "</style>\n",
       "<table border=\"1\" class=\"dataframe\">\n",
       "  <thead>\n",
       "    <tr style=\"text-align: right;\">\n",
       "      <th></th>\n",
       "      <th>CustomerID</th>\n",
       "      <th>Age</th>\n",
       "      <th>Annual Income (k$)</th>\n",
       "      <th>Spending Score (1-100)</th>\n",
       "      <th>Outcome</th>\n",
       "    </tr>\n",
       "  </thead>\n",
       "  <tbody>\n",
       "    <tr>\n",
       "      <th>0</th>\n",
       "      <td>1</td>\n",
       "      <td>19</td>\n",
       "      <td>15</td>\n",
       "      <td>39</td>\n",
       "      <td>1</td>\n",
       "    </tr>\n",
       "    <tr>\n",
       "      <th>1</th>\n",
       "      <td>2</td>\n",
       "      <td>21</td>\n",
       "      <td>15</td>\n",
       "      <td>81</td>\n",
       "      <td>1</td>\n",
       "    </tr>\n",
       "    <tr>\n",
       "      <th>2</th>\n",
       "      <td>3</td>\n",
       "      <td>20</td>\n",
       "      <td>16</td>\n",
       "      <td>6</td>\n",
       "      <td>0</td>\n",
       "    </tr>\n",
       "    <tr>\n",
       "      <th>3</th>\n",
       "      <td>4</td>\n",
       "      <td>23</td>\n",
       "      <td>16</td>\n",
       "      <td>77</td>\n",
       "      <td>0</td>\n",
       "    </tr>\n",
       "    <tr>\n",
       "      <th>4</th>\n",
       "      <td>5</td>\n",
       "      <td>31</td>\n",
       "      <td>17</td>\n",
       "      <td>40</td>\n",
       "      <td>0</td>\n",
       "    </tr>\n",
       "  </tbody>\n",
       "</table>\n",
       "</div>"
      ],
      "text/plain": [
       "   CustomerID  Age  Annual Income (k$)  Spending Score (1-100)  Outcome\n",
       "0           1   19                  15                      39        1\n",
       "1           2   21                  15                      81        1\n",
       "2           3   20                  16                       6        0\n",
       "3           4   23                  16                      77        0\n",
       "4           5   31                  17                      40        0"
      ]
     },
     "execution_count": 37,
     "metadata": {},
     "output_type": "execute_result"
    }
   ],
   "source": [
    "df3=df2.rename({'Male':'Outcome'},axis=1)\n",
    "df3.head()"
   ]
  },
  {
   "cell_type": "code",
   "execution_count": 38,
   "metadata": {},
   "outputs": [],
   "source": [
    "x=df3.drop(columns=['Outcome'],axis=1)\n",
    "y=df3['Outcome']"
   ]
  },
  {
   "cell_type": "code",
   "execution_count": 39,
   "metadata": {},
   "outputs": [],
   "source": [
    "X=np.array(x)"
   ]
  },
  {
   "cell_type": "code",
   "execution_count": 40,
   "metadata": {},
   "outputs": [
    {
     "data": {
      "text/plain": [
       "StandardScaler()"
      ]
     },
     "execution_count": 40,
     "metadata": {},
     "output_type": "execute_result"
    }
   ],
   "source": [
    "from sklearn.preprocessing import StandardScaler\n",
    "x_scaled=StandardScaler()\n",
    "x_scaled"
   ]
  },
  {
   "cell_type": "code",
   "execution_count": 41,
   "metadata": {},
   "outputs": [
    {
     "data": {
      "text/plain": [
       "array([[-1.7234121 , -1.42456879, -1.73899919, -0.43480148],\n",
       "       [-1.70609137, -1.28103541, -1.73899919,  1.19570407],\n",
       "       [-1.68877065, -1.3528021 , -1.70082976, -1.71591298],\n",
       "       [-1.67144992, -1.13750203, -1.70082976,  1.04041783],\n",
       "       [-1.6541292 , -0.56336851, -1.66266033, -0.39597992],\n",
       "       [-1.63680847, -1.20926872, -1.66266033,  1.00159627],\n",
       "       [-1.61948775, -0.27630176, -1.62449091, -1.71591298],\n",
       "       [-1.60216702, -1.13750203, -1.62449091,  1.70038436],\n",
       "       [-1.5848463 ,  1.80493225, -1.58632148, -1.83237767],\n",
       "       [-1.56752558, -0.6351352 , -1.58632148,  0.84631002],\n",
       "       [-1.55020485,  2.02023231, -1.58632148, -1.4053405 ],\n",
       "       [-1.53288413, -0.27630176, -1.58632148,  1.89449216],\n",
       "       [-1.5155634 ,  1.37433211, -1.54815205, -1.36651894],\n",
       "       [-1.49824268, -1.06573534, -1.54815205,  1.04041783],\n",
       "       [-1.48092195, -0.13276838, -1.54815205, -1.44416206],\n",
       "       [-1.46360123, -1.20926872, -1.54815205,  1.11806095],\n",
       "       [-1.4462805 , -0.27630176, -1.50998262, -0.59008772],\n",
       "       [-1.42895978, -1.3528021 , -1.50998262,  0.61338066],\n",
       "       [-1.41163905,  0.94373197, -1.43364376, -0.82301709],\n",
       "       [-1.39431833, -0.27630176, -1.43364376,  1.8556706 ],\n",
       "       [-1.3769976 , -0.27630176, -1.39547433, -0.59008772],\n",
       "       [-1.35967688, -0.99396865, -1.39547433,  0.88513158],\n",
       "       [-1.34235616,  0.51313183, -1.3573049 , -1.75473454],\n",
       "       [-1.32503543, -0.56336851, -1.3573049 ,  0.88513158],\n",
       "       [-1.30771471,  1.08726535, -1.24279661, -1.4053405 ],\n",
       "       [-1.29039398, -0.70690189, -1.24279661,  1.23452563],\n",
       "       [-1.27307326,  0.44136514, -1.24279661, -0.7065524 ],\n",
       "       [-1.25575253, -0.27630176, -1.24279661,  0.41927286],\n",
       "       [-1.23843181,  0.08253169, -1.20462718, -0.74537397],\n",
       "       [-1.22111108, -1.13750203, -1.20462718,  1.42863343],\n",
       "       [-1.20379036,  1.51786549, -1.16645776, -1.7935561 ],\n",
       "       [-1.18646963, -1.28103541, -1.16645776,  0.88513158],\n",
       "       [-1.16914891,  1.01549866, -1.05194947, -1.7935561 ],\n",
       "       [-1.15182818, -1.49633548, -1.05194947,  1.62274124],\n",
       "       [-1.13450746,  0.7284319 , -1.05194947, -1.4053405 ],\n",
       "       [-1.11718674, -1.28103541, -1.05194947,  1.19570407],\n",
       "       [-1.09986601,  0.22606507, -1.01378004, -1.28887582],\n",
       "       [-1.08254529, -0.6351352 , -1.01378004,  0.88513158],\n",
       "       [-1.06522456, -0.20453507, -0.89927175, -0.93948177],\n",
       "       [-1.04790384, -1.3528021 , -0.89927175,  0.96277471],\n",
       "       [-1.03058311,  1.87669894, -0.86110232, -0.59008772],\n",
       "       [-1.01326239, -1.06573534, -0.86110232,  1.62274124],\n",
       "       [-0.99594166,  0.65666521, -0.82293289, -0.55126616],\n",
       "       [-0.97862094, -0.56336851, -0.82293289,  0.41927286],\n",
       "       [-0.96130021,  0.7284319 , -0.82293289, -0.86183865],\n",
       "       [-0.94397949, -1.06573534, -0.82293289,  0.5745591 ],\n",
       "       [-0.92665877,  0.80019859, -0.78476346,  0.18634349],\n",
       "       [-0.90933804, -0.85043527, -0.78476346, -0.12422899],\n",
       "       [-0.89201732, -0.70690189, -0.78476346, -0.3183368 ],\n",
       "       [-0.87469659, -0.56336851, -0.78476346, -0.3183368 ],\n",
       "       [-0.85737587,  0.7284319 , -0.70842461,  0.06987881],\n",
       "       [-0.84005514, -0.41983513, -0.70842461,  0.38045129],\n",
       "       [-0.82273442, -0.56336851, -0.67025518,  0.14752193],\n",
       "       [-0.80541369,  1.4460988 , -0.67025518,  0.38045129],\n",
       "       [-0.78809297,  0.80019859, -0.67025518, -0.20187212],\n",
       "       [-0.77077224,  0.58489852, -0.67025518, -0.35715836],\n",
       "       [-0.75345152,  0.87196528, -0.63208575, -0.00776431],\n",
       "       [-0.73613079,  2.16376569, -0.63208575, -0.16305055],\n",
       "       [-0.71881007, -0.85043527, -0.55574689,  0.03105725],\n",
       "       [-0.70148935,  1.01549866, -0.55574689, -0.16305055],\n",
       "       [-0.68416862,  2.23553238, -0.55574689,  0.22516505],\n",
       "       [-0.6668479 , -1.42456879, -0.55574689,  0.18634349],\n",
       "       [-0.64952717,  2.02023231, -0.51757746,  0.06987881],\n",
       "       [-0.63220645,  1.08726535, -0.51757746,  0.34162973],\n",
       "       [-0.61488572,  1.73316556, -0.47940803,  0.03105725],\n",
       "       [-0.597565  , -1.49633548, -0.47940803,  0.34162973],\n",
       "       [-0.58024427,  0.29783176, -0.47940803, -0.00776431],\n",
       "       [-0.56292355,  2.091999  , -0.47940803, -0.08540743],\n",
       "       [-0.54560282, -1.42456879, -0.47940803,  0.34162973],\n",
       "       [-0.5282821 , -0.49160182, -0.47940803, -0.12422899],\n",
       "       [-0.51096138,  2.23553238, -0.4412386 ,  0.18634349],\n",
       "       [-0.49364065,  0.58489852, -0.4412386 , -0.3183368 ],\n",
       "       [-0.47631993,  1.51786549, -0.40306917, -0.04658587],\n",
       "       [-0.4589992 ,  1.51786549, -0.40306917,  0.22516505],\n",
       "       [-0.44167848,  1.4460988 , -0.25039146, -0.12422899],\n",
       "       [-0.42435775, -0.92220196, -0.25039146,  0.14752193],\n",
       "       [-0.40703703,  0.44136514, -0.25039146,  0.10870037],\n",
       "       [-0.3897163 ,  0.08253169, -0.25039146, -0.08540743],\n",
       "       [-0.37239558, -1.13750203, -0.25039146,  0.06987881],\n",
       "       [-0.35507485,  0.7284319 , -0.25039146, -0.3183368 ],\n",
       "       [-0.33775413,  1.30256542, -0.25039146,  0.03105725],\n",
       "       [-0.3204334 , -0.06100169, -0.25039146,  0.18634349],\n",
       "       [-0.30311268,  2.02023231, -0.25039146, -0.35715836],\n",
       "       [-0.28579196,  0.51313183, -0.25039146, -0.24069368],\n",
       "       [-0.26847123, -1.28103541, -0.25039146,  0.26398661],\n",
       "       [-0.25115051,  0.65666521, -0.25039146, -0.16305055],\n",
       "       [-0.23382978,  1.15903204, -0.13588317,  0.30280817],\n",
       "       [-0.21650906, -1.20926872, -0.13588317,  0.18634349],\n",
       "       [-0.19918833, -0.34806844, -0.09771374,  0.38045129],\n",
       "       [-0.18186761,  0.80019859, -0.09771374, -0.16305055],\n",
       "       [-0.16454688,  2.091999  , -0.05954431,  0.18634349],\n",
       "       [-0.14722616, -1.49633548, -0.05954431, -0.35715836],\n",
       "       [-0.12990543,  0.65666521, -0.02137488, -0.04658587],\n",
       "       [-0.11258471,  0.08253169, -0.02137488, -0.39597992],\n",
       "       [-0.09526399, -0.49160182, -0.02137488, -0.3183368 ],\n",
       "       [-0.07794326, -1.06573534, -0.02137488,  0.06987881],\n",
       "       [-0.06062254,  0.58489852, -0.02137488, -0.12422899],\n",
       "       [-0.04330181, -0.85043527, -0.02137488, -0.00776431],\n",
       "       [-0.02598109,  0.65666521,  0.01679455, -0.3183368 ],\n",
       "       [-0.00866036, -1.3528021 ,  0.01679455, -0.04658587],\n",
       "       [ 0.00866036, -1.13750203,  0.05496398, -0.35715836],\n",
       "       [ 0.02598109,  0.7284319 ,  0.05496398, -0.08540743],\n",
       "       [ 0.04330181,  2.02023231,  0.05496398,  0.34162973],\n",
       "       [ 0.06062254, -0.92220196,  0.05496398,  0.18634349],\n",
       "       [ 0.07794326,  0.7284319 ,  0.05496398,  0.22516505],\n",
       "       [ 0.09526399, -1.28103541,  0.05496398, -0.3183368 ],\n",
       "       [ 0.11258471,  1.94846562,  0.09313341, -0.00776431],\n",
       "       [ 0.12990543,  1.08726535,  0.09313341, -0.16305055],\n",
       "       [ 0.14722616,  2.091999  ,  0.09313341, -0.27951524],\n",
       "       [ 0.16454688,  1.94846562,  0.09313341, -0.08540743],\n",
       "       [ 0.18186761,  1.87669894,  0.09313341,  0.06987881],\n",
       "       [ 0.19918833, -1.42456879,  0.09313341,  0.14752193],\n",
       "       [ 0.21650906, -0.06100169,  0.13130284, -0.3183368 ],\n",
       "       [ 0.23382978, -1.42456879,  0.13130284, -0.16305055],\n",
       "       [ 0.25115051, -1.49633548,  0.16947227, -0.08540743],\n",
       "       [ 0.26847123, -1.42456879,  0.16947227, -0.00776431],\n",
       "       [ 0.28579196,  1.73316556,  0.16947227, -0.27951524],\n",
       "       [ 0.30311268,  0.7284319 ,  0.16947227,  0.34162973],\n",
       "       [ 0.3204334 ,  0.87196528,  0.24581112, -0.27951524],\n",
       "       [ 0.33775413,  0.80019859,  0.24581112,  0.26398661],\n",
       "       [ 0.35507485, -0.85043527,  0.24581112,  0.22516505],\n",
       "       [ 0.37239558, -0.06100169,  0.24581112, -0.39597992],\n",
       "       [ 0.3897163 ,  0.08253169,  0.32214998,  0.30280817],\n",
       "       [ 0.40703703,  0.010765  ,  0.32214998,  1.58391968],\n",
       "       [ 0.42435775, -1.13750203,  0.36031941, -0.82301709],\n",
       "       [ 0.44167848, -0.56336851,  0.36031941,  1.04041783],\n",
       "       [ 0.4589992 ,  0.29783176,  0.39848884, -0.59008772],\n",
       "       [ 0.47631993,  0.08253169,  0.39848884,  1.73920592],\n",
       "       [ 0.49364065,  1.4460988 ,  0.39848884, -1.52180518],\n",
       "       [ 0.51096138, -0.06100169,  0.39848884,  0.96277471],\n",
       "       [ 0.5282821 ,  0.58489852,  0.39848884, -1.5994483 ],\n",
       "       [ 0.54560282,  0.010765  ,  0.39848884,  0.96277471],\n",
       "       [ 0.56292355, -0.99396865,  0.43665827, -0.62890928],\n",
       "       [ 0.58024427, -0.56336851,  0.43665827,  0.80748846],\n",
       "       [ 0.597565  , -1.3528021 ,  0.4748277 , -1.75473454],\n",
       "       [ 0.61488572, -0.70690189,  0.4748277 ,  1.46745499],\n",
       "       [ 0.63220645,  0.36959845,  0.4748277 , -1.67709142],\n",
       "       [ 0.64952717, -0.49160182,  0.4748277 ,  0.88513158],\n",
       "       [ 0.6668479 , -1.42456879,  0.51299713, -1.56062674],\n",
       "       [ 0.68416862, -0.27630176,  0.51299713,  0.84631002],\n",
       "       [ 0.70148935,  1.30256542,  0.55116656, -1.75473454],\n",
       "       [ 0.71881007, -0.49160182,  0.55116656,  1.6615628 ],\n",
       "       [ 0.73613079, -0.77866858,  0.58933599, -0.39597992],\n",
       "       [ 0.75345152, -0.49160182,  0.58933599,  1.42863343],\n",
       "       [ 0.77077224, -0.99396865,  0.62750542, -1.48298362],\n",
       "       [ 0.78809297, -0.77866858,  0.62750542,  1.81684904],\n",
       "       [ 0.80541369,  0.65666521,  0.62750542, -0.55126616],\n",
       "       [ 0.82273442, -0.49160182,  0.62750542,  0.92395314],\n",
       "       [ 0.84005514, -0.34806844,  0.66567484, -1.09476801],\n",
       "       [ 0.85737587, -0.34806844,  0.66567484,  1.54509812],\n",
       "       [ 0.87469659,  0.29783176,  0.66567484, -1.28887582],\n",
       "       [ 0.89201732,  0.010765  ,  0.66567484,  1.46745499],\n",
       "       [ 0.90933804,  0.36959845,  0.66567484, -1.17241113],\n",
       "       [ 0.92665877, -0.06100169,  0.66567484,  1.00159627],\n",
       "       [ 0.94397949,  0.58489852,  0.66567484, -1.32769738],\n",
       "       [ 0.96130021, -0.85043527,  0.66567484,  1.50627656],\n",
       "       [ 0.97862094, -0.13276838,  0.66567484, -1.91002079],\n",
       "       [ 0.99594166, -0.6351352 ,  0.66567484,  1.07923939],\n",
       "       [ 1.01326239, -0.34806844,  0.66567484, -1.91002079],\n",
       "       [ 1.03058311, -0.6351352 ,  0.66567484,  0.88513158],\n",
       "       [ 1.04790384,  1.23079873,  0.70384427, -0.59008772],\n",
       "       [ 1.06522456, -0.70690189,  0.70384427,  1.27334719],\n",
       "       [ 1.08254529, -1.42456879,  0.78018313, -1.75473454],\n",
       "       [ 1.09986601, -0.56336851,  0.78018313,  1.6615628 ],\n",
       "       [ 1.11718674,  0.80019859,  0.93286085, -0.93948177],\n",
       "       [ 1.13450746, -0.20453507,  0.93286085,  0.96277471],\n",
       "       [ 1.15182818,  0.22606507,  0.97103028, -1.17241113],\n",
       "       [ 1.16914891, -0.41983513,  0.97103028,  1.73920592],\n",
       "       [ 1.18646963, -0.20453507,  1.00919971, -0.90066021],\n",
       "       [ 1.20379036, -0.49160182,  1.00919971,  0.49691598],\n",
       "       [ 1.22111108,  0.08253169,  1.00919971, -1.44416206],\n",
       "       [ 1.23843181, -0.77866858,  1.00919971,  0.96277471],\n",
       "       [ 1.25575253, -0.20453507,  1.00919971, -1.56062674],\n",
       "       [ 1.27307326, -0.20453507,  1.00919971,  1.62274124],\n",
       "       [ 1.29039398,  0.94373197,  1.04736914, -1.44416206],\n",
       "       [ 1.30771471, -0.6351352 ,  1.04736914,  1.38981187],\n",
       "       [ 1.32503543,  1.37433211,  1.04736914, -1.36651894],\n",
       "       [ 1.34235616, -0.85043527,  1.04736914,  0.72984534],\n",
       "       [ 1.35967688,  1.4460988 ,  1.23821628, -1.4053405 ],\n",
       "       [ 1.3769976 , -0.27630176,  1.23821628,  1.54509812],\n",
       "       [ 1.39431833, -0.13276838,  1.390894  , -0.7065524 ],\n",
       "       [ 1.41163905, -0.49160182,  1.390894  ,  1.38981187],\n",
       "       [ 1.42895978,  0.51313183,  1.42906343, -1.36651894],\n",
       "       [ 1.4462805 , -0.70690189,  1.42906343,  1.46745499],\n",
       "       [ 1.46360123,  0.15429838,  1.46723286, -0.43480148],\n",
       "       [ 1.48092195, -0.6351352 ,  1.46723286,  1.81684904],\n",
       "       [ 1.49824268,  1.08726535,  1.54357172, -1.01712489],\n",
       "       [ 1.5155634 , -0.77866858,  1.54357172,  0.69102378],\n",
       "       [ 1.53288413,  0.15429838,  1.61991057, -1.28887582],\n",
       "       [ 1.55020485, -0.20453507,  1.61991057,  1.35099031],\n",
       "       [ 1.56752558, -0.34806844,  1.61991057, -1.05594645],\n",
       "       [ 1.5848463 , -0.49160182,  1.61991057,  0.72984534],\n",
       "       [ 1.60216702, -0.41983513,  2.00160487, -1.63826986],\n",
       "       [ 1.61948775, -0.06100169,  2.00160487,  1.58391968],\n",
       "       [ 1.63680847,  0.58489852,  2.26879087, -1.32769738],\n",
       "       [ 1.6541292 , -0.27630176,  2.26879087,  1.11806095],\n",
       "       [ 1.67144992,  0.44136514,  2.49780745, -0.86183865],\n",
       "       [ 1.68877065, -0.49160182,  2.49780745,  0.92395314],\n",
       "       [ 1.70609137, -0.49160182,  2.91767117, -1.25005425],\n",
       "       [ 1.7234121 , -0.6351352 ,  2.91767117,  1.27334719]])"
      ]
     },
     "execution_count": 41,
     "metadata": {},
     "output_type": "execute_result"
    }
   ],
   "source": [
    "y_scaled=x_scaled.fit_transform(X)\n",
    "y_scaled"
   ]
  },
  {
   "cell_type": "code",
   "execution_count": 42,
   "metadata": {},
   "outputs": [
    {
     "data": {
      "text/plain": [
       "PCA(n_components=2)"
      ]
     },
     "execution_count": 42,
     "metadata": {},
     "output_type": "execute_result"
    }
   ],
   "source": [
    "from sklearn.decomposition import PCA\n",
    "pca=PCA(n_components=2)\n",
    "pca"
   ]
  },
  {
   "cell_type": "code",
   "execution_count": 43,
   "metadata": {},
   "outputs": [],
   "source": [
    "y_pca=pca.fit_transform(X)"
   ]
  },
  {
   "cell_type": "code",
   "execution_count": 44,
   "metadata": {},
   "outputs": [
    {
     "data": {
      "text/html": [
       "<div>\n",
       "<style scoped>\n",
       "    .dataframe tbody tr th:only-of-type {\n",
       "        vertical-align: middle;\n",
       "    }\n",
       "\n",
       "    .dataframe tbody tr th {\n",
       "        vertical-align: top;\n",
       "    }\n",
       "\n",
       "    .dataframe thead th {\n",
       "        text-align: right;\n",
       "    }\n",
       "</style>\n",
       "<table border=\"1\" class=\"dataframe\">\n",
       "  <thead>\n",
       "    <tr style=\"text-align: right;\">\n",
       "      <th></th>\n",
       "      <th>pca1</th>\n",
       "      <th>pca2</th>\n",
       "    </tr>\n",
       "  </thead>\n",
       "  <tbody>\n",
       "    <tr>\n",
       "      <th>0</th>\n",
       "      <td>-109.384203</td>\n",
       "      <td>5.477723</td>\n",
       "    </tr>\n",
       "    <tr>\n",
       "      <th>1</th>\n",
       "      <td>-108.203115</td>\n",
       "      <td>-34.932531</td>\n",
       "    </tr>\n",
       "    <tr>\n",
       "      <th>2</th>\n",
       "      <td>-107.376109</td>\n",
       "      <td>37.841376</td>\n",
       "    </tr>\n",
       "    <tr>\n",
       "      <th>3</th>\n",
       "      <td>-106.007616</td>\n",
       "      <td>-30.562252</td>\n",
       "    </tr>\n",
       "    <tr>\n",
       "      <th>4</th>\n",
       "      <td>-104.980136</td>\n",
       "      <td>7.297221</td>\n",
       "    </tr>\n",
       "  </tbody>\n",
       "</table>\n",
       "</div>"
      ],
      "text/plain": [
       "         pca1       pca2\n",
       "0 -109.384203   5.477723\n",
       "1 -108.203115 -34.932531\n",
       "2 -107.376109  37.841376\n",
       "3 -106.007616 -30.562252\n",
       "4 -104.980136   7.297221"
      ]
     },
     "execution_count": 44,
     "metadata": {},
     "output_type": "execute_result"
    }
   ],
   "source": [
    "y_pca1=pd.DataFrame(data=y_pca,columns=['pca1','pca2'])\n",
    "y_pca1.head()"
   ]
  },
  {
   "cell_type": "code",
   "execution_count": 45,
   "metadata": {},
   "outputs": [
    {
     "data": {
      "text/html": [
       "<div>\n",
       "<style scoped>\n",
       "    .dataframe tbody tr th:only-of-type {\n",
       "        vertical-align: middle;\n",
       "    }\n",
       "\n",
       "    .dataframe tbody tr th {\n",
       "        vertical-align: top;\n",
       "    }\n",
       "\n",
       "    .dataframe thead th {\n",
       "        text-align: right;\n",
       "    }\n",
       "</style>\n",
       "<table border=\"1\" class=\"dataframe\">\n",
       "  <thead>\n",
       "    <tr style=\"text-align: right;\">\n",
       "      <th></th>\n",
       "      <th>Outcome</th>\n",
       "      <th>pca1</th>\n",
       "      <th>pca2</th>\n",
       "    </tr>\n",
       "  </thead>\n",
       "  <tbody>\n",
       "    <tr>\n",
       "      <th>0</th>\n",
       "      <td>1</td>\n",
       "      <td>-109.384203</td>\n",
       "      <td>5.477723</td>\n",
       "    </tr>\n",
       "    <tr>\n",
       "      <th>1</th>\n",
       "      <td>1</td>\n",
       "      <td>-108.203115</td>\n",
       "      <td>-34.932531</td>\n",
       "    </tr>\n",
       "    <tr>\n",
       "      <th>2</th>\n",
       "      <td>0</td>\n",
       "      <td>-107.376109</td>\n",
       "      <td>37.841376</td>\n",
       "    </tr>\n",
       "    <tr>\n",
       "      <th>3</th>\n",
       "      <td>0</td>\n",
       "      <td>-106.007616</td>\n",
       "      <td>-30.562252</td>\n",
       "    </tr>\n",
       "    <tr>\n",
       "      <th>4</th>\n",
       "      <td>0</td>\n",
       "      <td>-104.980136</td>\n",
       "      <td>7.297221</td>\n",
       "    </tr>\n",
       "  </tbody>\n",
       "</table>\n",
       "</div>"
      ],
      "text/plain": [
       "   Outcome        pca1       pca2\n",
       "0        1 -109.384203   5.477723\n",
       "1        1 -108.203115 -34.932531\n",
       "2        0 -107.376109  37.841376\n",
       "3        0 -106.007616 -30.562252\n",
       "4        0 -104.980136   7.297221"
      ]
     },
     "execution_count": 45,
     "metadata": {},
     "output_type": "execute_result"
    }
   ],
   "source": [
    "y_pca2=pd.concat([df3['Outcome'],y_pca1],axis=1)\n",
    "y_pca2.head()"
   ]
  },
  {
   "cell_type": "code",
   "execution_count": 46,
   "metadata": {},
   "outputs": [
    {
     "data": {
      "text/plain": [
       "array([81.89905348, 14.16933539])"
      ]
     },
     "execution_count": 46,
     "metadata": {},
     "output_type": "execute_result"
    }
   ],
   "source": [
    "(pca.explained_variance_ratio_)*100"
   ]
  },
  {
   "cell_type": "code",
   "execution_count": 47,
   "metadata": {},
   "outputs": [],
   "source": [
    "from sklearn.model_selection import train_test_split"
   ]
  },
  {
   "cell_type": "code",
   "execution_count": 48,
   "metadata": {},
   "outputs": [],
   "source": [
    "x_train,x_test,y_train,y_test=train_test_split(x,y,test_size=.25,random_state=42)"
   ]
  },
  {
   "cell_type": "code",
   "execution_count": 49,
   "metadata": {},
   "outputs": [],
   "source": [
    "from sklearn.linear_model import LogisticRegression"
   ]
  },
  {
   "cell_type": "code",
   "execution_count": 50,
   "metadata": {},
   "outputs": [],
   "source": [
    "model=LogisticRegression()"
   ]
  },
  {
   "cell_type": "code",
   "execution_count": 51,
   "metadata": {},
   "outputs": [
    {
     "data": {
      "text/plain": [
       "LogisticRegression()"
      ]
     },
     "execution_count": 51,
     "metadata": {},
     "output_type": "execute_result"
    }
   ],
   "source": [
    "model.fit(x_train,y_train)"
   ]
  },
  {
   "cell_type": "code",
   "execution_count": 52,
   "metadata": {},
   "outputs": [
    {
     "data": {
      "text/plain": [
       "array([0, 0, 0, 0, 0, 0, 0, 0, 1, 0, 0, 1, 0, 0, 1, 0, 0, 0, 0, 0, 0, 0,\n",
       "       0, 0, 0, 0, 0, 0, 0, 0, 0, 0, 0, 0, 0, 0, 0, 0, 0, 0, 0, 0, 0, 0,\n",
       "       0, 0, 0, 0, 0, 0], dtype=uint8)"
      ]
     },
     "execution_count": 52,
     "metadata": {},
     "output_type": "execute_result"
    }
   ],
   "source": [
    "y_pred=model.predict(x_test)\n",
    "y_pred"
   ]
  },
  {
   "cell_type": "code",
   "execution_count": 53,
   "metadata": {},
   "outputs": [],
   "source": [
    "from sklearn.metrics import accuracy_score,classification_report,confusion_matrix,roc_curve"
   ]
  },
  {
   "cell_type": "code",
   "execution_count": 54,
   "metadata": {},
   "outputs": [
    {
     "data": {
      "text/plain": [
       "57.99999999999999"
      ]
     },
     "execution_count": 54,
     "metadata": {},
     "output_type": "execute_result"
    }
   ],
   "source": [
    "(accuracy_score(y_test,y_pred))*100"
   ]
  },
  {
   "cell_type": "code",
   "execution_count": 81,
   "metadata": {},
   "outputs": [
    {
     "name": "stdout",
     "output_type": "stream",
     "text": [
      "              precision    recall  f1-score   support\n",
      "\n",
      "           0       0.60      0.93      0.73        30\n",
      "           1       0.33      0.05      0.09        20\n",
      "\n",
      "    accuracy                           0.58        50\n",
      "   macro avg       0.46      0.49      0.41        50\n",
      "weighted avg       0.49      0.58      0.47        50\n",
      "\n"
     ]
    }
   ],
   "source": [
    "print(classification_report(y_test,y_pred))"
   ]
  },
  {
   "cell_type": "code",
   "execution_count": 56,
   "metadata": {},
   "outputs": [
    {
     "data": {
      "text/plain": [
       "array([[28,  2],\n",
       "       [19,  1]], dtype=int64)"
      ]
     },
     "execution_count": 56,
     "metadata": {},
     "output_type": "execute_result"
    }
   ],
   "source": [
    "confusion_matrix(y_test,y_pred)"
   ]
  },
  {
   "cell_type": "code",
   "execution_count": 57,
   "metadata": {},
   "outputs": [
    {
     "data": {
      "text/plain": [
       "(array([0.        , 0.06666667, 1.        ]),\n",
       " array([0.  , 0.05, 1.  ]),\n",
       " array([2, 1, 0]))"
      ]
     },
     "execution_count": 57,
     "metadata": {},
     "output_type": "execute_result"
    }
   ],
   "source": [
    "fpr,tpr,thresholds=roc_curve(y_test,y_pred)\n",
    "fpr,tpr,thresholds"
   ]
  },
  {
   "cell_type": "code",
   "execution_count": 58,
   "metadata": {},
   "outputs": [
    {
     "data": {
      "image/png": "[encoded data removed]",
      "text/plain": [
       "<Figure size 432x288 with 1 Axes>"
      ]
     },
     "metadata": {
      "needs_background": "light"
     },
     "output_type": "display_data"
    }
   ],
   "source": [
    "plt.plot(fpr,tpr,thresholds,marker='o')\n",
    "plt.title('ROC curve')\n",
    "plt.xlabel('fpr')\n",
    "plt.ylabel('tpr')\n",
    "plt.show()"
   ]
  },
  {
   "cell_type": "code",
   "execution_count": 75,
   "metadata": {},
   "outputs": [],
   "source": [
    "from sklearn.cluster import KMeans"
   ]
  },
  {
   "cell_type": "code",
   "execution_count": 76,
   "metadata": {},
   "outputs": [
    {
     "data": {
      "text/plain": [
       "KMeans(n_clusters=6)"
      ]
     },
     "execution_count": 76,
     "metadata": {},
     "output_type": "execute_result"
    }
   ],
   "source": [
    "model2=KMeans(n_clusters=6)\n",
    "model2"
   ]
  },
  {
   "cell_type": "code",
   "execution_count": 77,
   "metadata": {},
   "outputs": [
    {
     "data": {
      "text/plain": [
       "KMeans(n_clusters=6)"
      ]
     },
     "execution_count": 77,
     "metadata": {},
     "output_type": "execute_result"
    }
   ],
   "source": [
    "model2.fit(x_train,y_train)"
   ]
  },
  {
   "cell_type": "code",
   "execution_count": 78,
   "metadata": {},
   "outputs": [
    {
     "data": {
      "text/plain": [
       "array([[ 17.93333333,  42.73333333,  23.33333333,  18.26666667],\n",
       "       [167.25925926,  32.37037037,  88.18518519,  84.03703704],\n",
       "       [165.96      ,  39.52      ,  90.04      ,  17.92      ],\n",
       "       [ 22.70588235,  24.82352941,  25.64705882,  79.11764706],\n",
       "       [ 60.44827586,  47.62068966,  45.51724138,  49.10344828],\n",
       "       [108.02702703,  41.32432432,  63.24324324,  51.37837838]])"
      ]
     },
     "execution_count": 78,
     "metadata": {},
     "output_type": "execute_result"
    }
   ],
   "source": [
    "model2.cluster_centers_"
   ]
  },
  {
   "cell_type": "code",
   "execution_count": 79,
   "metadata": {},
   "outputs": [],
   "source": [
    "a=[]\n",
    "for i in range(1,11):\n",
    "    kmeans=KMeans(i)\n",
    "    kmeans.fit(y_scaled)\n",
    "    a.append(kmeans.inertia_)"
   ]
  },
  {
   "cell_type": "code",
   "execution_count": null,
   "metadata": {},
   "outputs": [],
   "source": [
    "plt.plot(range(1,11),a,marker='o',markerfacecolor='red')\n",
    "plt.title('Elbow Method')\n",
    "plt.xlabel('No of clusters')\n",
    "plt.ylabel('a')\n",
    "plt.show()"
   ]
  },
  {
   "cell_type": "code",
   "execution_count": 84,
   "metadata": {},
   "outputs": [
    {
     "data": {
      "text/plain": [
       "array([0, 0, 4, 0, 4, 0, 4, 0, 4, 0, 4, 0, 4, 0, 4, 0, 4, 0, 4, 0, 4, 0,\n",
       "       4, 0, 4, 0, 4, 0, 4, 0, 4, 0, 4, 0, 4, 0, 4, 0, 4, 0, 2, 0, 4, 0,\n",
       "       4, 0, 2, 3, 3, 3, 2, 3, 3, 2, 2, 2, 2, 2, 3, 2, 2, 3, 2, 2, 2, 3,\n",
       "       2, 2, 3, 3, 2, 2, 2, 2, 2, 3, 2, 3, 3, 2, 2, 3, 2, 2, 3, 2, 2, 3,\n",
       "       3, 2, 2, 3, 2, 3, 3, 3, 2, 3, 2, 3, 3, 2, 2, 3, 2, 3, 2, 2, 2, 2,\n",
       "       2, 3, 3, 3, 3, 3, 2, 2, 2, 2, 3, 3, 3, 5, 3, 5, 1, 5, 1, 5, 1, 5,\n",
       "       3, 5, 1, 5, 1, 5, 1, 5, 1, 5, 3, 5, 1, 5, 1, 5, 1, 5, 1, 5, 1, 5,\n",
       "       1, 5, 1, 5, 1, 5, 1, 5, 1, 5, 1, 5, 1, 5, 1, 5, 1, 5, 1, 5, 1, 5,\n",
       "       1, 5, 1, 5, 1, 5, 1, 5, 1, 5, 1, 5, 1, 5, 1, 5, 1, 5, 1, 5, 1, 5,\n",
       "       1, 5])"
      ]
     },
     "execution_count": 84,
     "metadata": {},
     "output_type": "execute_result"
    }
   ],
   "source": [
    "y_kmeans=model2.fit_predict(y_scaled)\n",
    "y_kmeans"
   ]
  },
  {
   "cell_type": "code",
   "execution_count": null,
   "metadata": {},
   "outputs": [],
   "source": [
    "plt.scatter(y_scaled[y_kmeans==0,0],y_scaled[y_kmeans==0,1],s=100,c='red')\n",
    "plt.scatter(y_scaled[y_kmeans==1,0],y_scaled[y_kmeans==1,1],s=100,c='blue')\n",
    "plt.scatter(y_scaled[y_kmeans==2,0],y_scaled[y_kmeans==2,1],s=100,c='black')\n",
    "plt.scatter(y_scaled[y_kmeans==3,0],y_scaled[y_kmeans==3,1],s=100,c='yellow')\n",
    "plt.scatter(y_scaled[y_kmeans==4,0],y_scaled[y_kmeans==4,1],s=100,c='green')\n",
    "plt.scatter(y_scaled[y_kmeans==5,0],y_scaled[y_kmeans==5,1],s=100,c='violet')\n",
    "##plt.scatter(y_scaled[y_kmeans==0,0],y_scaled[y_kmeans==0,1],s=100,c='green')\n",
    "plt.show()"
   ]
  },
  {
   "cell_type": "code",
   "execution_count": null,
   "metadata": {},
   "outputs": [],
   "source": [
    " from sklearn.tree import DecisionTreeClassifier,plot_tree"
   ]
  },
  {
   "cell_type": "code",
   "execution_count": null,
   "metadata": {},
   "outputs": [],
   "source": [
    "model3=DecisionTreeClassifier()"
   ]
  },
  {
   "cell_type": "code",
   "execution_count": null,
   "metadata": {},
   "outputs": [],
   "source": [
    "model3.fit(x_train,y_train)"
   ]
  },
  {
   "cell_type": "code",
   "execution_count": null,
   "metadata": {},
   "outputs": [],
   "source": [
    "y_pred1=model3.predict(x_test)"
   ]
  },
  {
   "cell_type": "code",
   "execution_count": null,
   "metadata": {},
   "outputs": [],
   "source": [
    "(accuracy_score(y_test,y_pred1))*100"
   ]
  },
  {
   "cell_type": "code",
   "execution_count": null,
   "metadata": {},
   "outputs": [],
   "source": [
    "plot_tree(model3,filled=True)\n",
    "plt.show()"
   ]
  },
  {
   "cell_type": "code",
   "execution_count": null,
   "metadata": {},
   "outputs": [],
   "source": [
    "y=confusion_matrix(y_test,y_pred)\n",
    "sns.heatmap(y,annot=True)\n",
    "plt.show()"
   ]
  },
  {
   "cell_type": "code",
   "execution_count": null,
   "metadata": {},
   "outputs": [],
   "source": [
    "classification_report(y_test,y_pred)"
   ]
  },
  {
   "cell_type": "code",
   "execution_count": null,
   "metadata": {},
   "outputs": [],
   "source": [
    "import scipy.cluster.hierarchy as sch\n",
    "from sklearn.cluster import AgglomerativeClustering"
   ]
  },
  {
   "cell_type": "code",
   "execution_count": null,
   "metadata": {},
   "outputs": [],
   "source": [
    "dendrogram=sch.dendrogram(sch.linkage(y_scaled,method='ward'))\n",
    "dendrogram\n",
    "plt.show()"
   ]
  },
  {
   "cell_type": "code",
   "execution_count": null,
   "metadata": {},
   "outputs": [],
   "source": [
    "hc=AgglomerativeClustering(n_clusters=6,affinity='euclidean',linkage='ward')\n",
    "hc"
   ]
  },
  {
   "cell_type": "code",
   "execution_count": null,
   "metadata": {},
   "outputs": [],
   "source": [
    "y_hc=hc.fit_predict(y_scaled)\n",
    "y_hc.shape"
   ]
  },
  {
   "cell_type": "code",
   "execution_count": null,
   "metadata": {},
   "outputs": [],
   "source": [
    "plt.scatter(y_scaled[y_hc==0,0],y_scaled[y_hc==0,1],s=100,c='red')\n",
    "plt.scatter(y_scaled[y_hc==1,0],y_scaled[y_hc==1,1],s=100,c='blue')\n",
    "plt.scatter(y_scaled[y_hc==2,0],y_scaled[y_hc==2,1],s=100,c='black')\n",
    "plt.scatter(y_scaled[y_hc==3,0],y_scaled[y_hc==3,1],s=100,c='yellow')\n",
    "plt.scatter(y_scaled[y_hc==4,0],y_scaled[y_hc==4,1],s=100,c='green')\n",
    "plt.scatter(y_scaled[y_hc==5,0],y_scaled[y_hc==5,1],s=100,c='violet')\n",
    "plt.show()"
   ]
  },
  {
   "cell_type": "code",
   "execution_count": null,
   "metadata": {},
   "outputs": [],
   "source": [
    "from sklearn.ensemble import RandomForestClassifier"
   ]
  },
  {
   "cell_type": "code",
   "execution_count": null,
   "metadata": {},
   "outputs": [],
   "source": [
    "model4=RandomForestClassifier()"
   ]
  },
  {
   "cell_type": "code",
   "execution_count": null,
   "metadata": {},
   "outputs": [],
   "source": [
    "model4.fit(x_train,y_train)"
   ]
  },
  {
   "cell_type": "code",
   "execution_count": null,
   "metadata": {},
   "outputs": [],
   "source": [
    "y_pred2=model4.predict(x_test)"
   ]
  },
  {
   "cell_type": "code",
   "execution_count": null,
   "metadata": {},
   "outputs": [],
   "source": [
    "(accuracy_score(y_test,y_pred2))*100"
   ]
  },
  {
   "cell_type": "code",
   "execution_count": null,
   "metadata": {},
   "outputs": [],
   "source": []
  },
  {
   "cell_type": "code",
   "execution_count": null,
   "metadata": {},
   "outputs": [],
   "source": []
  }
 ],
 "metadata": {
  "kernelspec": {
   "display_name": "Python 3",
   "language": "python",
   "name": "python3"
  },
  "language_info": {
   "codemirror_mode": {
    "name": "ipython",
    "version": 3
   },
   "file_extension": ".py",
   "mimetype": "text/x-python",
   "name": "python",
   "nbconvert_exporter": "python",
   "pygments_lexer": "ipython3",
   "version": "3.8.5"
  }
 },
 "nbformat": 4,
 "nbformat_minor": 4
}
